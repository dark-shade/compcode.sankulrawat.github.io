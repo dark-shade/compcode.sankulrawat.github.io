{
 "cells": [
  {
   "cell_type": "markdown",
   "metadata": {},
   "source": [
    "# Machine Learning - Development Notebook\n",
    "\n",
    "Contains:\n",
    "1. [Tesseract](https://github.com/madmaze/pytesseract) based model to extract number of problems solved for Project Euler.\n"
   ]
  },
  {
   "cell_type": "code",
   "execution_count": 25,
   "metadata": {},
   "outputs": [
    {
     "name": "stdout",
     "output_type": "stream",
     "text": [
      "DEBUG:PIL.PngImagePlugin:STREAM b'IHDR' 16 13\n",
      "DEBUG:PIL.PngImagePlugin:STREAM b'pHYs' 41 9\n",
      "DEBUG:PIL.PngImagePlugin:STREAM b'IDAT' 62 4488\n",
      "Number of Project Euler problems solved = 18\n"
     ]
    }
   ],
   "source": [
    "try:\n",
    "    from PIL import Image\n",
    "except ImportError:\n",
    "    import Image\n",
    "import pytesseract\n",
    "import logging\n",
    "\n",
    "# If you don't have tesseract executable in your PATH, include the following:\n",
    "#pytesseract.pytesseract.tesseract_cmd = r'C:\\Program Files\\Tesseract-OCR\\tesseract'\n",
    "# Example tesseract_cmd = r'C:\\Program Files (x86)\\Tesseract-OCR\\tesseract'\n",
    "\n",
    "data_string = \"\"\n",
    "\n",
    "try:\n",
    "    data_string = pytesseract.image_to_string(Image.open('C:\\\\Users\\\\Sankul\\\\repos\\\\compcode.sankulrawat.github.io\\\\notebooks\\\\data\\\\project_euler_dark_shade.png'), timeout=2)\n",
    "except RuntimeError as timeout_error:\n",
    "    logging.err(\"unable to convert image to string\")\n",
    "    pass\n",
    "\n",
    "print(\"Number of Project Euler problems solved =\", data_string.split()[-1])"
   ]
  }
 ],
 "metadata": {
  "kernelspec": {
   "display_name": "Python 3",
   "language": "python",
   "name": "python3"
  },
  "language_info": {
   "codemirror_mode": {
    "name": "ipython",
    "version": 3
   },
   "file_extension": ".py",
   "mimetype": "text/x-python",
   "name": "python",
   "nbconvert_exporter": "python",
   "pygments_lexer": "ipython3",
   "version": "3.7.4"
  }
 },
 "nbformat": 4,
 "nbformat_minor": 4
}
